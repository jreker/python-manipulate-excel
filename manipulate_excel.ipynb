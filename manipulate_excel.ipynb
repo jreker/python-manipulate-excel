{
 "cells": [
  {
   "cell_type": "code",
   "execution_count": null,
   "metadata": {},
   "outputs": [],
   "source": [
    "import xlwings as xw"
   ]
  },
  {
   "cell_type": "code",
   "execution_count": null,
   "metadata": {},
   "outputs": [],
   "source": [
    "# choose if excel is visible or not\n",
    "app = xw.App(visible=False)\n",
    "\n",
    "wb = xw.Book('data.xlsx')\n",
    "sheet = wb.sheets['Tabelle1']\n",
    "\n",
    "# set cell b6  to \"My new Data\"\n",
    "sheet['B6'].value = \"My new Data\"\n",
    "\n",
    "wb.close()\n",
    "app.quit()"
   ]
  }
 ],
 "metadata": {
  "language_info": {
   "name": "python"
  },
  "orig_nbformat": 4
 },
 "nbformat": 4,
 "nbformat_minor": 2
}
